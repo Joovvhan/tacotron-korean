{
 "cells": [
  {
   "cell_type": "code",
   "execution_count": 1,
   "metadata": {},
   "outputs": [],
   "source": [
    "# -*- coding: utf-8 -*-\n",
    "from hyperparams import Hyperparams as hp\n",
    "import os\n",
    "import codecs\n",
    "from jamo import h2j, j2hcj\n",
    "from tqdm import tqdm\n",
    "import tensorflow as tf\n",
    "import numpy as np\n",
    "import librosa\n",
    "import matplotlib.pyplot as plt"
   ]
  },
  {
   "cell_type": "code",
   "execution_count": 2,
   "metadata": {},
   "outputs": [],
   "source": [
    "trascript = hp.transcript_pos\n",
    "lines = codecs.open(trascript, 'r', 'utf-8').readlines()\n",
    "\n",
    "if not (os.path.isdir(hp.mels_dir)):\n",
    "    os.mkdir(hp.mels_dir)\n",
    "    print('{%s} does not exist, created {%s}'.format(hp.mels_dir, hp.mels_dir))\n",
    "    \n",
    "if not (os.path.isdir(hp.mags_dir)):\n",
    "    os.mkdir(hp.mags_dir)\n",
    "    print('{%s} does not exist, created {%s}'.format(hp.mags_dir, hp.mags_dir))"
   ]
  },
  {
   "cell_type": "code",
   "execution_count": 3,
   "metadata": {},
   "outputs": [],
   "source": [
    "def load_vocab():\n",
    "    char2idx = {char: idx for idx, char in enumerate(hp.vocab)}\n",
    "    idx2char = {idx: char for idx, char in enumerate(hp.vocab)}\n",
    "    return char2idx, idx2char"
   ]
  },
  {
   "cell_type": "code",
   "execution_count": 4,
   "metadata": {},
   "outputs": [
    {
     "name": "stderr",
     "output_type": "stream",
     "text": [
      "100%|█████████████████████████████████████████████████████████████████████████| 12853/12853 [00:01<00:00, 10231.90it/s]\n"
     ]
    }
   ],
   "source": [
    "fnames, texts, secs, text_lengths = [], [], [], []\n",
    "char2idx, idx2char = load_vocab();\n",
    "\n",
    "for line in tqdm(lines):\n",
    "    line = j2hcj(line)\n",
    "    fname, _, text, sec = line.strip().split('|')\n",
    "    encodedText = [char2idx[char] for char in text]\n",
    "    encodedText = np.array(encodedText, np.int32)#.tostring()\n",
    "    fnames.append(fname); texts.append(encodedText)\n",
    "    secs.append(float(sec)); text_lengths.append(len(encodedText))\n",
    "    \n",
    "fnames = np.asarray(fnames)\n",
    "texts = np.asarray(texts)\n",
    "secs = np.asarray(secs)"
   ]
  },
  {
   "cell_type": "code",
   "execution_count": 5,
   "metadata": {},
   "outputs": [],
   "source": [
    "maxLen, minLen = max(text_lengths), min(text_lengths)"
   ]
  },
  {
   "cell_type": "code",
   "execution_count": 6,
   "metadata": {},
   "outputs": [],
   "source": [
    "def spectrogram(wav, nsc, nov, fs):\n",
    "    \n",
    "    \n",
    "    S = librosa.feature.melspectrogram(y=wav, sr=fs, n_fft=nsc, hop_length=nov, power=2.0)\n",
    "    dbS = 20 * np.log10(np.maximum(S, hp.eps))\n",
    "    \n",
    "    \n",
    "    return dbS\n",
    "\n",
    "def mel_spectrogram(wav, nsc, nov, fs):\n",
    "    \n",
    "    \n",
    "    S = librosa.feature.melspectrogram(y=wav, sr=fs, n_fft=nsc, hop_length=nov, power=2.0, n_mels = hp.n_mels)\n",
    "    dbS = 20 * np.log10(np.maximum(S, hp.eps))\n",
    "    \n",
    "    \n",
    "    return dbS"
   ]
  },
  {
   "cell_type": "code",
   "execution_count": 7,
   "metadata": {
    "scrolled": true
   },
   "outputs": [
    {
     "name": "stderr",
     "output_type": "stream",
     "text": [
      "100%|██████████████████████████████████████████████████████████████████████████| 12853/12853 [00:08<00:00, 1434.78it/s]\n"
     ]
    }
   ],
   "source": [
    "for i in tqdm(range(0, len(fnames))):\n",
    "    fname = fnames[i]\n",
    "    text = texts[i]\n",
    "    \n",
    "    npy_name = fname.split('/')[1].replace('wav', 'npy')\n",
    "    mel_path = os.path.join(hp.mels_dir, npy_name)\n",
    "    mag_path = os.path.join(hp.mags_dir, npy_name)\n",
    "    \n",
    "    if os.path.isfile(mel_path) and os.path.isfile(mag_path):\n",
    "        \n",
    "        mag = np.load(mag_path)\n",
    "        mel = np.load(mel_path) \n",
    "        \n",
    "    else :\n",
    "    \n",
    "        fpath = os.path.join(hp.data_dir, fname)\n",
    "        wav, fs = librosa.core.load(fpath, mono=True)\n",
    "        nsc = np.int(fs * hp.nsc_sec)\n",
    "        nov = np.int(fs * hp.nov_sec)\n",
    "        mag = spectrogram(wav, nsc, nov, fs)\n",
    "        mel = mel_spectrogram(wav, nsc, nov, fs)\n",
    "        \n",
    "        mag = mag / hp.max_db\n",
    "        mel = mel / hp.max_db\n",
    "        \n",
    "        np.save(mag_path, mag)\n",
    "        np.save(mel_path, mel)\n",
    "    \n",
    "#     plt.figure(figsize=(10, 4))\n",
    "#     plt.subplot(1, 2, 1)\n",
    "#     plt.imshow(mag, origin='lower')\n",
    "#     plt.colorbar()\n",
    "#     plt.subplot(1, 2, 2)\n",
    "#     plt.imshow(mel, origin='lower')\n",
    "#     plt.colorbar()\n",
    "#     plt.show()"
   ]
  },
  {
   "cell_type": "code",
   "execution_count": 8,
   "metadata": {},
   "outputs": [],
   "source": [
    "with tf.variable_scope(\"embedding\", reuse=None):\n",
    "    lookup_table = tf.get_variable('lookup_table', \n",
    "                                   dtype=tf.float32, \n",
    "                                   shape=[len(hp.vocab), hp.embed_size],\n",
    "                                   initializer=tf.truncated_normal_initializer(mean=0.0, stddev=0.01))"
   ]
  },
  {
   "cell_type": "code",
   "execution_count": 9,
   "metadata": {},
   "outputs": [
    {
     "name": "stdout",
     "output_type": "stream",
     "text": [
      "WARNING:tensorflow:From c:\\users\\주환\\appdata\\local\\programs\\python\\python36\\lib\\site-packages\\tensorflow\\python\\util\\tf_should_use.py:189: initialize_all_variables (from tensorflow.python.ops.variables) is deprecated and will be removed after 2017-03-02.\n",
      "Instructions for updating:\n",
      "Use `tf.global_variables_initializer` instead.\n"
     ]
    }
   ],
   "source": [
    "sess = tf.InteractiveSession()\n",
    "sess.run(tf.initialize_all_variables())"
   ]
  },
  {
   "cell_type": "code",
   "execution_count": 10,
   "metadata": {},
   "outputs": [
    {
     "data": {
      "text/plain": [
       "array([[-0.00411742,  0.0193691 , -0.01092497, ..., -0.01110291,\n",
       "         0.00212082,  0.01087879],\n",
       "       [ 0.00285258, -0.00582785,  0.01130832, ...,  0.0072158 ,\n",
       "        -0.01278855,  0.01473596],\n",
       "       [ 0.00334708,  0.00268886, -0.01200301, ...,  0.01826044,\n",
       "         0.01159377, -0.00797163],\n",
       "       ...,\n",
       "       [ 0.01084822, -0.0055747 ,  0.0118415 , ...,  0.01699412,\n",
       "         0.00972055, -0.0085203 ],\n",
       "       [ 0.0019335 ,  0.00375815,  0.01632613, ...,  0.01018131,\n",
       "         0.00874179,  0.014639  ],\n",
       "       [-0.0005712 ,  0.00829581, -0.0010403 , ..., -0.00606473,\n",
       "        -0.00375434, -0.00170488]], dtype=float32)"
      ]
     },
     "execution_count": 10,
     "metadata": {},
     "output_type": "execute_result"
    }
   ],
   "source": [
    "sess.run(lookup_table)"
   ]
  },
  {
   "cell_type": "code",
   "execution_count": 11,
   "metadata": {},
   "outputs": [],
   "source": [
    "embed_texts = []\n",
    "\n",
    "for i in range(len(texts)):\n",
    "    text = texts[i]\n",
    "    embed_text = tf.nn.embedding_lookup(lookup_table, text)\n",
    "    embed_text = tf.expand_dims(embed_text, 0)\n",
    "    embed_texts.append(embed_text)"
   ]
  },
  {
   "cell_type": "code",
   "execution_count": 12,
   "metadata": {},
   "outputs": [
    {
     "data": {
      "text/plain": [
       "<tf.Tensor 'ExpandDims_12852:0' shape=(1, 34, 256) dtype=float32>"
      ]
     },
     "execution_count": 12,
     "metadata": {},
     "output_type": "execute_result"
    }
   ],
   "source": [
    "embed_text"
   ]
  },
  {
   "cell_type": "code",
   "execution_count": 13,
   "metadata": {},
   "outputs": [
    {
     "data": {
      "text/plain": [
       "'embedding/lookup_table:0'"
      ]
     },
     "execution_count": 13,
     "metadata": {},
     "output_type": "execute_result"
    }
   ],
   "source": [
    "lookup_table.name"
   ]
  },
  {
   "cell_type": "code",
   "execution_count": 14,
   "metadata": {},
   "outputs": [
    {
     "data": {
      "text/plain": [
       "array([ 8, 28,  4, 14, 21,  0,  8, 37,  8, 34,  4,  8, 38,  2,  0,  8, 37,\n",
       "        2, 20,  2, 14, 40,  0, 18, 20,  4, 18, 20,  4, 14, 21,  8, 32, 52])"
      ]
     },
     "execution_count": 14,
     "metadata": {},
     "output_type": "execute_result"
    }
   ],
   "source": [
    "encodedText"
   ]
  },
  {
   "cell_type": "code",
   "execution_count": 15,
   "metadata": {},
   "outputs": [],
   "source": [
    "x = sess.run(embed_texts)"
   ]
  },
  {
   "cell_type": "code",
   "execution_count": 16,
   "metadata": {},
   "outputs": [
    {
     "data": {
      "text/plain": [
       "<matplotlib.image.AxesImage at 0x23ad170a5f8>"
      ]
     },
     "execution_count": 16,
     "metadata": {},
     "output_type": "execute_result"
    },
    {
     "data": {
      "image/png": "[encoded data removed]",
      "text/plain": [
       "<Figure size 432x288 with 1 Axes>"
      ]
     },
     "metadata": {
      "needs_background": "light"
     },
     "output_type": "display_data"
    }
   ],
   "source": [
    "plt.imshow(x[40][0, :, :])"
   ]
  },
  {
   "cell_type": "code",
   "execution_count": 35,
   "metadata": {
    "scrolled": true
   },
   "outputs": [
    {
     "name": "stderr",
     "output_type": "stream",
     "text": [
      "100%|██████████████████████████████████████████████████████████████████████████████████| 10/10 [00:00<00:00, 13.47it/s]\n"
     ]
    }
   ],
   "source": [
    "# for i in tqdm(range(len(embed_texts))):\n",
    "prenet_results = []\n",
    "\n",
    "for i in tqdm(range(10)):\n",
    "    with tf.variable_scope(\"conv1d_banks\", reuse=tf.AUTO_REUSE):\n",
    "        embed_text = embed_texts[i]\n",
    "\n",
    "        for k in range(1, hp.K + 1):\n",
    "            with tf.variable_scope(\"filter_num_{}\".format(k)):\n",
    "                params = {\"inputs\":embed_text, \"filters\":hp.num_k_filter, \"kernel_size\":k,\n",
    "                        \"dilation_rate\":1, \"padding\":\"SAME\", \"activation\":None, \n",
    "                        \"use_bias\":False, \"reuse\":tf.AUTO_REUSE}\n",
    "                \n",
    "                # Works when resue = True\n",
    "                # For i loop, filter is reused.\n",
    "\n",
    "                outputs = tf.layers.conv1d(**params)\n",
    "                if k == 1:\n",
    "                    prenet_outputs = outputs\n",
    "                else:\n",
    "                    prenet_outputs = tf.concat((prenet_outputs, outputs), axis=2)\n",
    "                \n",
    "    prenet_results.append(prenet_outputs)\n",
    "                \n",
    "#     print(prenet_outputs)\n"
   ]
  },
  {
   "cell_type": "code",
   "execution_count": 38,
   "metadata": {},
   "outputs": [
    {
     "data": {
      "text/plain": [
       "[array([[[-0.00925035, -0.00485579,  0.00143038, ...,  0.00365124,\n",
       "           0.01083142,  0.00405627],\n",
       "         [-0.0010325 , -0.00790023, -0.0118396 , ..., -0.00254349,\n",
       "           0.01567378, -0.00884042],\n",
       "         [ 0.009396  , -0.00441353, -0.01286404, ...,  0.00710783,\n",
       "          -0.01035598, -0.01156101],\n",
       "         ...,\n",
       "         [-0.00438826,  0.00158816, -0.00139997, ...,  0.00067496,\n",
       "          -0.00824017,  0.01228307],\n",
       "         [ 0.00915774, -0.00883361, -0.00595266, ..., -0.0161763 ,\n",
       "          -0.00380357, -0.0061717 ],\n",
       "         [-0.01311872,  0.00225865,  0.00191063, ..., -0.00025064,\n",
       "          -0.00585506,  0.01010937]]], dtype=float32),\n",
       " array([[[-0.00925035, -0.00485579,  0.00143038, ...,  0.0079049 ,\n",
       "          -0.00378775,  0.00669441],\n",
       "         [-0.0010325 , -0.00790023, -0.0118396 , ..., -0.01338555,\n",
       "           0.01109678, -0.00112467],\n",
       "         [ 0.009396  , -0.00441353, -0.01286404, ...,  0.00415022,\n",
       "           0.00031522, -0.00785932],\n",
       "         ...,\n",
       "         [-0.00438826,  0.00158816, -0.00139997, ...,  0.00122767,\n",
       "          -0.00150897,  0.02115877],\n",
       "         [ 0.00915774, -0.00883361, -0.00595266, ..., -0.00879589,\n",
       "          -0.00586625, -0.0021472 ],\n",
       "         [-0.01311872,  0.00225865,  0.00191063, ..., -0.00175703,\n",
       "          -0.00508339,  0.00655546]]], dtype=float32),\n",
       " array([[[-0.00540086,  0.0028523 , -0.00015271, ..., -0.00533455,\n",
       "           0.00816595, -0.00338188],\n",
       "         [-0.00403236, -0.01968629, -0.00430906, ...,  0.00332318,\n",
       "           0.01036809,  0.00063764],\n",
       "         [-0.00540086,  0.0028523 , -0.00015271, ..., -0.00377932,\n",
       "          -0.0076061 , -0.01318345],\n",
       "         ...,\n",
       "         [ 0.01750117, -0.00442434, -0.00103372, ...,  0.00527225,\n",
       "          -0.00403875, -0.00115706],\n",
       "         [ 0.00915774, -0.00883361, -0.00595266, ..., -0.0053158 ,\n",
       "           0.00073951,  0.00055641],\n",
       "         [-0.01311872,  0.00225865,  0.00191063, ..., -0.00899112,\n",
       "          -0.00221784,  0.00230598]]], dtype=float32),\n",
       " array([[[-0.00925035, -0.00485579,  0.00143038, ..., -0.00455415,\n",
       "           0.0088834 ,  0.00703022],\n",
       "         [-0.0010325 , -0.00790023, -0.0118396 , ..., -0.00914806,\n",
       "           0.01199469, -0.01483722],\n",
       "         [ 0.009396  , -0.00441353, -0.01286404, ...,  0.00545247,\n",
       "           0.00326845, -0.00115739],\n",
       "         ...,\n",
       "         [-0.00438826,  0.00158816, -0.00139997, ...,  0.00378208,\n",
       "          -0.00269939,  0.00905421],\n",
       "         [ 0.00915774, -0.00883361, -0.00595266, ..., -0.00317085,\n",
       "          -0.00127841, -0.00182823],\n",
       "         [-0.01311872,  0.00225865,  0.00191063, ..., -0.00512664,\n",
       "           0.00192626, -0.00163296]]], dtype=float32),\n",
       " array([[[-0.00925035, -0.00485579,  0.00143038, ...,  0.00085031,\n",
       "           0.00299642,  0.00874373],\n",
       "         [-0.0010325 , -0.00790023, -0.0118396 , ..., -0.00702685,\n",
       "           0.01323676, -0.00150561],\n",
       "         [-0.00635562,  0.0262575 ,  0.00578635, ...,  0.01485181,\n",
       "           0.00316335, -0.00121178],\n",
       "         ...,\n",
       "         [-0.00540086,  0.0028523 , -0.00015271, ...,  0.00606534,\n",
       "          -0.00336307,  0.01704248],\n",
       "         [ 0.00915774, -0.00883361, -0.00595266, ..., -0.00957898,\n",
       "           0.00790562, -0.00505342],\n",
       "         [ 0.00766889,  0.00155086, -0.00647169, ..., -0.00201948,\n",
       "           0.00400044,  0.00291334]]], dtype=float32),\n",
       " array([[[-0.00506875,  0.02080179, -0.01245886, ...,  0.00732272,\n",
       "          -0.00704514, -0.00283821],\n",
       "         [ 0.00915774, -0.00883361, -0.00595266, ..., -0.00668077,\n",
       "           0.00615473, -0.00541051],\n",
       "         [-0.00540086,  0.0028523 , -0.00015271, ...,  0.00040419,\n",
       "           0.01381587, -0.01913877],\n",
       "         ...,\n",
       "         [-0.00540086,  0.0028523 , -0.00015271, ..., -0.01319909,\n",
       "          -0.01142908,  0.00879809],\n",
       "         [-0.00403236, -0.01968629, -0.00430906, ...,  0.01340069,\n",
       "           0.01210941, -0.00059562],\n",
       "         [ 0.00766889,  0.00155086, -0.00647169, ..., -0.00043584,\n",
       "           0.0020168 , -0.00065668]]], dtype=float32),\n",
       " array([[[-0.00925035, -0.00485579,  0.00143038, ...,  0.00572146,\n",
       "           0.00540232, -0.01689148],\n",
       "         [ 0.00932971,  0.00758444,  0.01208011, ...,  0.00539365,\n",
       "           0.00981012, -0.02281903],\n",
       "         [-0.00925035, -0.00485579,  0.00143038, ...,  0.00863591,\n",
       "           0.01030522, -0.00742061],\n",
       "         ...,\n",
       "         [-0.00599234,  0.00841573,  0.00160943, ...,  0.01995864,\n",
       "          -0.01618877,  0.00838146],\n",
       "         [-0.01435979,  0.0091711 , -0.00350206, ..., -0.00070894,\n",
       "          -0.00412944, -0.00266566],\n",
       "         [-0.01311872,  0.00225865,  0.00191063, ..., -0.00344468,\n",
       "          -0.00969842,  0.00380555]]], dtype=float32),\n",
       " array([[[-0.00925035, -0.00485579,  0.00143038, ..., -0.00153776,\n",
       "           0.01405553,  0.00438177],\n",
       "         [-0.0010325 , -0.00790023, -0.0118396 , ...,  0.00079894,\n",
       "           0.00161697, -0.00688198],\n",
       "         [-0.00438826,  0.00158816, -0.00139997, ...,  0.0046209 ,\n",
       "           0.00848311,  0.01000031],\n",
       "         ...,\n",
       "         [-0.00438826,  0.00158816, -0.00139997, ..., -0.00654513,\n",
       "           0.00057135,  0.01098947],\n",
       "         [ 0.00915774, -0.00883361, -0.00595266, ..., -0.01017742,\n",
       "          -0.00573134, -0.00793154],\n",
       "         [-0.01311872,  0.00225865,  0.00191063, ...,  0.00393651,\n",
       "           0.00087219,  0.00894045]]], dtype=float32),\n",
       " array([[[ 0.009396  , -0.00441353, -0.01286404, ..., -0.00128574,\n",
       "          -0.00060339,  0.00425622],\n",
       "         [ 0.00915774, -0.00883361, -0.00595266, ..., -0.01550687,\n",
       "           0.00547082, -0.01939401],\n",
       "         [ 0.009396  , -0.00441353, -0.01286404, ..., -0.0067067 ,\n",
       "          -0.00067373, -0.01246917],\n",
       "         ...,\n",
       "         [-0.00438826,  0.00158816, -0.00139997, ..., -0.00129542,\n",
       "           0.00073099,  0.01898308],\n",
       "         [ 0.00915774, -0.00883361, -0.00595266, ..., -0.00546473,\n",
       "          -0.0047452 , -0.00333737],\n",
       "         [-0.01311872,  0.00225865,  0.00191063, ..., -0.00638356,\n",
       "          -0.00266834,  0.0136281 ]]], dtype=float32),\n",
       " array([[[-0.00191002, -0.01219832, -0.00083127, ..., -0.00783997,\n",
       "          -0.00683078,  0.00531294],\n",
       "         [ 0.00915774, -0.00883361, -0.00595266, ..., -0.01312065,\n",
       "           0.0110895 , -0.00687555],\n",
       "         [-0.00058239, -0.00758593,  0.00409424, ...,  0.00179532,\n",
       "           0.00123483, -0.00967323],\n",
       "         ...,\n",
       "         [-0.00540086,  0.0028523 , -0.00015271, ...,  0.00230836,\n",
       "          -0.00184491,  0.01190549],\n",
       "         [-0.00403236, -0.01968629, -0.00430906, ..., -0.000275  ,\n",
       "          -0.00536759, -0.0011078 ],\n",
       "         [-0.01311872,  0.00225865,  0.00191063, ..., -0.00840275,\n",
       "          -0.00102375, -0.00320169]]], dtype=float32)]"
      ]
     },
     "execution_count": 38,
     "metadata": {},
     "output_type": "execute_result"
    }
   ],
   "source": [
    "sess.run(tf.initialize_all_variables())\n",
    "sess.run(prenet_results)"
   ]
  }
 ],
 "metadata": {
  "kernelspec": {
   "display_name": "Python 3",
   "language": "python",
   "name": "python3"
  },
  "language_info": {
   "codemirror_mode": {
    "name": "ipython",
    "version": 3
   },
   "file_extension": ".py",
   "mimetype": "text/x-python",
   "name": "python",
   "nbconvert_exporter": "python",
   "pygments_lexer": "ipython3",
   "version": "3.6.8"
  }
 },
 "nbformat": 4,
 "nbformat_minor": 2
}
