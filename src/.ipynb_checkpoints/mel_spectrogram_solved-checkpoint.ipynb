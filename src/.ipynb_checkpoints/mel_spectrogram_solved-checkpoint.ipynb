{
 "cells": [
  {
   "cell_type": "code",
   "execution_count": 1,
   "metadata": {},
   "outputs": [],
   "source": [
    "import numpy as np\n",
    "import matplotlib.pyplot as plt\n",
    "import codecs\n",
    "import os\n",
    "import tensorflow as tf\n",
    "\n",
    "from tqdm import tqdm\n",
    "from jamo import h2j, j2hcj\n",
    "\n",
    "from hyperparams import Hyperparams as hp\n",
    "from datafeeder import DataFeeder\n",
    "from tacotron import Tacotron\n",
    "from utils import load_vocab\n",
    "\n",
    "plt.rcParams['figure.figsize'] = [10, 5]"
   ]
  },
  {
   "cell_type": "code",
   "execution_count": 2,
   "metadata": {},
   "outputs": [],
   "source": [
    "trascript = hp.transcript_pos\n",
    "lines = codecs.open(trascript, 'r', 'utf-8').readlines()\n",
    "\n",
    "if not (os.path.isdir(hp.mels_dir)):\n",
    "    os.mkdir(hp.mels_dir)\n",
    "    print('{%s} does not exist, created {%s}'.format(hp.mels_dir, hp.mels_dir))\n",
    "    \n",
    "if not (os.path.isdir(hp.mags_dir)):\n",
    "    os.mkdir(hp.mags_dir)\n",
    "    print('{%s} does not exist, created {%s}'.format(hp.mags_dir, hp.mags_dir))"
   ]
  },
  {
   "cell_type": "code",
   "execution_count": 3,
   "metadata": {},
   "outputs": [
    {
     "name": "stderr",
     "output_type": "stream",
     "text": [
      "100%|████████████████████████████████████████████████████████████████████| 12853/12853 [00:01<00:00, 10494.59it/s]\n"
     ]
    }
   ],
   "source": [
    "fnames, texts, secs, text_lengths = [], [], [], []\n",
    "char2idx, idx2char = load_vocab();\n",
    "\n",
    "for line in tqdm(lines):\n",
    "    line = j2hcj(line)\n",
    "    fname, _, text, sec = line.strip().split('|')\n",
    "    encodedText = [char2idx[char] for char in text]\n",
    "    encodedText = np.array(encodedText, np.int32)#.tostring()\n",
    "    \n",
    "    fnames.append(fname)\n",
    "    texts.append(encodedText)\n",
    "    secs.append(float(sec))\n",
    "    text_lengths.append(len(encodedText))\n",
    "    \n",
    "fnames = np.asarray(fnames)\n",
    "texts = np.asarray(texts)\n",
    "secs = np.asarray(secs)"
   ]
  },
  {
   "cell_type": "code",
   "execution_count": 4,
   "metadata": {},
   "outputs": [],
   "source": [
    "metadata = list(zip(fnames, texts))"
   ]
  },
  {
   "cell_type": "code",
   "execution_count": null,
   "metadata": {
    "scrolled": false
   },
   "outputs": [],
   "source": [
    "import sys\n",
    "del sys.modules['datafeeder']\n",
    "from datafeeder import DataFeeder\n",
    "del sys.modules['tacotron']\n",
    "from tacotron import Tacotron\n",
    "\n",
    "coordinator = tf.train.Coordinator()\n",
    "\n",
    "with tf.variable_scope('data_feeder') as scope:\n",
    "    feeder = DataFeeder(metadata, coordinator)\n",
    "    \n",
    "global_step = tf.Variable(0, name='global_step', trainable=False)\n",
    "\n",
    "with tf.variable_scope('model') as scope:\n",
    "    model = Tacotron(feeder.texts, \n",
    "                     feeder.mels, \n",
    "                     feeder.mags, \n",
    "                     feeder.text_lengths)\n",
    "    \n",
    "with tf.Session() as sess:\n",
    "    sess.run(tf.global_variables_initializer())\n",
    "    feeder.start_thread(sess)\n",
    "    \n",
    "    while not coordinator.should_stop():\n",
    "        x = sess.run(model.conv_bank_outputs)\n",
    "        print(x.shape)\n",
    "        \n",
    "    "
   ]
  },
  {
   "cell_type": "code",
   "execution_count": null,
   "metadata": {},
   "outputs": [],
   "source": [
    "coordinator."
   ]
  },
  {
   "cell_type": "code",
   "execution_count": null,
   "metadata": {
    "scrolled": false
   },
   "outputs": [],
   "source": [
    "text, mel, spec, l = feeder._load_next()\n",
    "plt.imshow(mel, origin='lower')\n",
    "plt.colorbar()\n",
    "plt.show()\n",
    "\n",
    "fig = plt.figure()\n",
    "ax = fig.add_subplot(111)\n",
    "plt.imshow(spec, origin='lower')\n",
    "plt.colorbar()\n",
    "ax.set_aspect(0.1)\n"
   ]
  },
  {
   "cell_type": "code",
   "execution_count": null,
   "metadata": {},
   "outputs": [],
   "source": [
    "# with tf.Session() as sess:\n",
    "#     feeder.start_thread(sess) "
   ]
  },
  {
   "cell_type": "code",
   "execution_count": null,
   "metadata": {},
   "outputs": [],
   "source": [
    "# sess = tf.Session()\n",
    "# feeder.start_thread(sess) "
   ]
  },
  {
   "cell_type": "code",
   "execution_count": null,
   "metadata": {},
   "outputs": [],
   "source": [
    "global_step = tf.Variable(0, name='global_step', trainable=False)"
   ]
  },
  {
   "cell_type": "code",
   "execution_count": null,
   "metadata": {},
   "outputs": [],
   "source": [
    "# with tf.variable_scope('model') as scope:\n",
    "#     model Tacotron()\n",
    "#     model.initialize(feeder.texts, feeder.mels, feeder.mags, feeder.text_lengths)\n",
    "#     model.add_loss()\n",
    "#     model.add_optimizer(global_step)\n",
    "    \n",
    "#     stats = add_stats(model)"
   ]
  },
  {
   "cell_type": "code",
   "execution_count": null,
   "metadata": {},
   "outputs": [],
   "source": [
    "with tf.variable_scope('datafeeder') as scope:\n",
    "    feeder = DataFeeder()"
   ]
  },
  {
   "cell_type": "code",
   "execution_count": null,
   "metadata": {},
   "outputs": [],
   "source": [
    "sess.close()\n",
    "\n",
    "del sys.modules['tacotron']\n",
    "from tacotron import Tacotron\n",
    "\n",
    "model = Tacotron(feeder.texts, feeder.mels, feeder.mags, feeder.text_lengths)"
   ]
  }
 ],
 "metadata": {
  "kernelspec": {
   "display_name": "Python 3",
   "language": "python",
   "name": "python3"
  },
  "language_info": {
   "codemirror_mode": {
    "name": "ipython",
    "version": 3
   },
   "file_extension": ".py",
   "mimetype": "text/x-python",
   "name": "python",
   "nbconvert_exporter": "python",
   "pygments_lexer": "ipython3",
   "version": "3.6.8"
  }
 },
 "nbformat": 4,
 "nbformat_minor": 2
}
